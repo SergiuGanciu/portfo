{
 "cells": [
  {
   "cell_type": "code",
   "execution_count": 6,
   "id": "46baebce",
   "metadata": {},
   "outputs": [
    {
     "data": {
      "text/plain": [
       "(2854, 165)"
      ]
     },
     "execution_count": 6,
     "metadata": {},
     "output_type": "execute_result"
    }
   ],
   "source": [
    "import pandas as pd\n",
    "\n",
    "data_frame = pd.read_csv('data.csv')\n",
    "\n",
    "data_frame.shape"
   ]
  },
  {
   "cell_type": "code",
   "execution_count": 18,
   "id": "764f7afb",
   "metadata": {},
   "outputs": [
    {
     "data": {
      "text/html": [
       "<div>\n",
       "<style scoped>\n",
       "    .dataframe tbody tr th:only-of-type {\n",
       "        vertical-align: middle;\n",
       "    }\n",
       "\n",
       "    .dataframe tbody tr th {\n",
       "        vertical-align: top;\n",
       "    }\n",
       "\n",
       "    .dataframe thead th {\n",
       "        text-align: right;\n",
       "    }\n",
       "</style>\n",
       "<table border=\"1\" class=\"dataframe\">\n",
       "  <thead>\n",
       "    <tr style=\"text-align: right;\">\n",
       "      <th></th>\n",
       "      <th>Player</th>\n",
       "      <th>Pos</th>\n",
       "      <th>Gls</th>\n",
       "      <th>xG</th>\n",
       "      <th>Diff</th>\n",
       "    </tr>\n",
       "  </thead>\n",
       "  <tbody>\n",
       "    <tr>\n",
       "      <th>2369</th>\n",
       "      <td>Patrik Schick</td>\n",
       "      <td>FW</td>\n",
       "      <td>21</td>\n",
       "      <td>12.7</td>\n",
       "      <td>8.3</td>\n",
       "    </tr>\n",
       "    <tr>\n",
       "      <th>1693</th>\n",
       "      <td>Bryan Mbeumo</td>\n",
       "      <td>FW</td>\n",
       "      <td>20</td>\n",
       "      <td>12.3</td>\n",
       "      <td>7.7</td>\n",
       "    </tr>\n",
       "    <tr>\n",
       "      <th>2787</th>\n",
       "      <td>Chris Wood</td>\n",
       "      <td>FW</td>\n",
       "      <td>20</td>\n",
       "      <td>13.4</td>\n",
       "      <td>6.6</td>\n",
       "    </tr>\n",
       "    <tr>\n",
       "      <th>637</th>\n",
       "      <td>Matheus Cunha</td>\n",
       "      <td>MF,FW</td>\n",
       "      <td>15</td>\n",
       "      <td>8.6</td>\n",
       "      <td>6.4</td>\n",
       "    </tr>\n",
       "    <tr>\n",
       "      <th>2088</th>\n",
       "      <td>Ayoze Pérez</td>\n",
       "      <td>FW</td>\n",
       "      <td>19</td>\n",
       "      <td>12.7</td>\n",
       "      <td>6.3</td>\n",
       "    </tr>\n",
       "    <tr>\n",
       "      <th>...</th>\n",
       "      <td>...</td>\n",
       "      <td>...</td>\n",
       "      <td>...</td>\n",
       "      <td>...</td>\n",
       "      <td>...</td>\n",
       "    </tr>\n",
       "    <tr>\n",
       "      <th>18</th>\n",
       "      <td>Tammy Abraham</td>\n",
       "      <td>FW</td>\n",
       "      <td>3</td>\n",
       "      <td>7.1</td>\n",
       "      <td>-4.1</td>\n",
       "    </tr>\n",
       "    <tr>\n",
       "      <th>66</th>\n",
       "      <td>Maghnes Akliouche</td>\n",
       "      <td>FW,MF</td>\n",
       "      <td>5</td>\n",
       "      <td>9.2</td>\n",
       "      <td>-4.2</td>\n",
       "    </tr>\n",
       "    <tr>\n",
       "      <th>838</th>\n",
       "      <td>Breel Embolo</td>\n",
       "      <td>FW,MF</td>\n",
       "      <td>6</td>\n",
       "      <td>10.8</td>\n",
       "      <td>-4.8</td>\n",
       "    </tr>\n",
       "    <tr>\n",
       "      <th>866</th>\n",
       "      <td>Abde Ezzalzouli</td>\n",
       "      <td>FW,MF</td>\n",
       "      <td>2</td>\n",
       "      <td>8.0</td>\n",
       "      <td>-6.0</td>\n",
       "    </tr>\n",
       "    <tr>\n",
       "      <th>823</th>\n",
       "      <td>Hugo Ekitike</td>\n",
       "      <td>FW</td>\n",
       "      <td>15</td>\n",
       "      <td>21.6</td>\n",
       "      <td>-6.6</td>\n",
       "    </tr>\n",
       "  </tbody>\n",
       "</table>\n",
       "<p>2854 rows × 5 columns</p>\n",
       "</div>"
      ],
      "text/plain": [
       "                 Player    Pos  Gls    xG  Diff\n",
       "2369      Patrik Schick     FW   21  12.7   8.3\n",
       "1693       Bryan Mbeumo     FW   20  12.3   7.7\n",
       "2787         Chris Wood     FW   20  13.4   6.6\n",
       "637       Matheus Cunha  MF,FW   15   8.6   6.4\n",
       "2088        Ayoze Pérez     FW   19  12.7   6.3\n",
       "...                 ...    ...  ...   ...   ...\n",
       "18        Tammy Abraham     FW    3   7.1  -4.1\n",
       "66    Maghnes Akliouche  FW,MF    5   9.2  -4.2\n",
       "838        Breel Embolo  FW,MF    6  10.8  -4.8\n",
       "866     Abde Ezzalzouli  FW,MF    2   8.0  -6.0\n",
       "823        Hugo Ekitike     FW   15  21.6  -6.6\n",
       "\n",
       "[2854 rows x 5 columns]"
      ]
     },
     "execution_count": 18,
     "metadata": {},
     "output_type": "execute_result"
    }
   ],
   "source": [
    "df1 = pd.DataFrame(data_frame, columns=['Player', 'Pos', 'Gls', 'xG'])\n",
    "df1['Diff'] = df1['Gls'] - df1['xG']\n",
    "df_sorted = df1.sort_values(by=\"Diff\", ascending=False)\n",
    "df_sorted"
   ]
  },
  {
   "cell_type": "code",
   "execution_count": 19,
   "id": "a77a8f26",
   "metadata": {},
   "outputs": [
    {
     "name": "stderr",
     "output_type": "stream",
     "text": [
      "Matplotlib is building the font cache; this may take a moment.\n"
     ]
    },
    {
     "data": {
      "text/plain": [
       "<Axes: xlabel='Gls', ylabel='xG'>"
      ]
     },
     "execution_count": 19,
     "metadata": {},
     "output_type": "execute_result"
    },
    {
     "data": {
      "image/png": "[encoded data removed]",
      "text/plain": [
       "<Figure size 640x480 with 1 Axes>"
      ]
     },
     "metadata": {},
     "output_type": "display_data"
    }
   ],
   "source": [
    "import seaborn as sb\n",
    "sb.set_theme()\n",
    "\n",
    "graph = sb.scatterplot(x=\"Gls\", y=\"xG\", data=df1)\n",
    "graph"
   ]
  },
  {
   "cell_type": "code",
   "execution_count": 21,
   "id": "f96daeb6",
   "metadata": {},
   "outputs": [
    {
     "name": "stderr",
     "output_type": "stream",
     "text": [
      "BokehDeprecationWarning: 'circle() method with size value' was deprecated in Bokeh 3.4.0 and will be removed, use 'scatter(size=...) instead' instead.\n"
     ]
    }
   ],
   "source": [
    "from bokeh.plotting import figure,show\n",
    "from bokeh.models import HoverTool\n",
    "\n",
    "TOOLTIPS = HoverTool(tooltips=[\n",
    "    (\"index\", '$index'),\n",
    "    (\"(Gls,xG)\", \"(@Gls,@xG)\"),\n",
    "    (\"Player\", \"@Player\")\n",
    "])\n",
    "\n",
    "# hover = HoverTool(tooltips=TOOLTIPS)\n",
    "\n",
    "p = figure(title=\"Top Football Scorers\", x_axis_label='Gls', y_axis_label='xG', tools=[TOOLTIPS])\n",
    "p.circle('Gls', 'xG', size=10, source=df1)\n",
    "show(p)"
   ]
  }
 ],
 "metadata": {
  "kernelspec": {
   "display_name": ".venv (3.12.7)",
   "language": "python",
   "name": "python3"
  },
  "language_info": {
   "codemirror_mode": {
    "name": "ipython",
    "version": 3
   },
   "file_extension": ".py",
   "mimetype": "text/x-python",
   "name": "python",
   "nbconvert_exporter": "python",
   "pygments_lexer": "ipython3",
   "version": "3.12.7"
  }
 },
 "nbformat": 4,
 "nbformat_minor": 5
}
